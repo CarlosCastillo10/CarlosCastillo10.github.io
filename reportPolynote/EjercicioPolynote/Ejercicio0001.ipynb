{
  "metadata" : {
    "config" : {
      "dependencies" : {
        "python" : [
          "plotly",
          "pandas"
        ]
      },
      "exclusions" : [
      ],
      "repositories" : [
      ],
      "sparkConfig" : {
        
      }
    }
  },
  "nbformat" : 4,
  "nbformat_minor" : 0,
  "cells" : [
    {
      "cell_type" : "markdown",
      "execution_count" : 0,
      "metadata" : {
        "language" : "text"
      },
      "language" : "text",
      "source" : [
        "# Ejercicio Polynote\n",
        "\n",
        "\n",
        "Este cuaderno es una prueba de como manejar el entorno grafico de polynote\n",
        "\n",
        "\n"
      ],
      "outputs" : [
      ]
    },
    {
      "cell_type" : "code",
      "execution_count" : 1,
      "metadata" : {
        "cell.metadata.exec_info" : {
          "startTs" : 1573837932316,
          "endTs" : 1573837937339
        },
        "language" : "python"
      },
      "language" : "python",
      "source" : [
        "import pandas as pd \n",
        "import plotly\n",
        "import plotly.express as px\n",
        "data = pd.read_json('./data/logOutput.json')\n"
      ],
      "outputs" : [
      ]
    },
    {
      "cell_type" : "code",
      "execution_count" : 3,
      "metadata" : {
        "cell.metadata.exec_info" : {
          "startTs" : 1573837937346,
          "endTs" : 1573837939245
        },
        "language" : "python"
      },
      "language" : "python",
      "source" : [
        "df = data[data['host'] == 'soer.utpl.edu.ec']\n",
        "fig = px.scatter(df, x=\"time\", y=\"username\",title=\"Registro interacción: Usuarios en soer.utpl.edu.ec\")\n",
        "fig.show()"
      ],
      "outputs" : [
      ]
    },
    {
      "cell_type" : "code",
      "execution_count" : 2,
      "metadata" : {
        "cell.metadata.exec_info" : {
          "startTs" : 1573837393191,
          "endTs" : 1573837393451
        },
        "language" : "python"
      },
      "language" : "python",
      "source" : [
      ],
      "outputs" : [
      ]
    }
  ]
}